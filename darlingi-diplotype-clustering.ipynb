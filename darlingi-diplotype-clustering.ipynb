{
 "cells": [
  {
   "cell_type": "code",
   "execution_count": 1,
   "id": "503f525f-1449-49fd-bfb4-9004d1545a77",
   "metadata": {},
   "outputs": [],
   "source": [
    "import allel\n",
    "import numpy as np\n",
    "import pandas as pd"
   ]
  },
  {
   "cell_type": "markdown",
   "id": "0e0f31b5-7ebc-45e3-87d6-111223323b01",
   "metadata": {},
   "source": [
    "### Run G123 on Darlingi"
   ]
  },
  {
   "cell_type": "code",
   "execution_count": 3,
   "id": "b1eab23e-2170-4351-bc05-6fc93a459699",
   "metadata": {},
   "outputs": [
    {
     "name": "stdout",
     "output_type": "stream",
     "text": [
      "Adarlingi_annotation_example.vcf            ag-vampir-002.annot.vcf\n",
      "Adarlingi_example_selection_region.vcf      darlingi-diplotype-clustering.ipynb\n",
      "\u001b[0m\u001b[01;31mAdarlingi_example_selection_region.vcf.zip\u001b[0m  darlingi-g123.ipynb\n",
      "Adarlingi_example.vcf                       test.csv\n"
     ]
    }
   ],
   "source": [
    "ls"
   ]
  },
  {
   "cell_type": "code",
   "execution_count": 10,
   "id": "a36c2b09-2cec-4da5-b9e3-b3af317ce682",
   "metadata": {},
   "outputs": [],
   "source": [
    "vcf = allel.read_vcf(\"Adarlingi_annotation_example.vcf\", fields=\"*\")"
   ]
  },
  {
   "cell_type": "code",
   "execution_count": 14,
   "id": "9347059a-2bd8-4a1c-999a-dc210f00d19a",
   "metadata": {},
   "outputs": [],
   "source": [
    "import pandas as pd\n",
    "import numpy as np\n",
    "\n",
    "def parse_snpeff_annotations(annotations: np.ndarray) -> pd.DataFrame:\n",
    "    \"\"\"\n",
    "    Parse SnpEff annotations from a numpy array of strings into a pandas DataFrame.\n",
    "    \n",
    "    Args:\n",
    "        annotations (np.ndarray): Array of SnpEff annotation strings\n",
    "        \n",
    "    Returns:\n",
    "        pd.DataFrame: DataFrame with parsed annotation fields\n",
    "    \"\"\"\n",
    "    # Define column names based on SnpEff annotation format\n",
    "    columns = [\n",
    "        'allele', 'effect', 'impact', 'gene_name', 'gene_id',\n",
    "        'feature_type', 'feature_id', 'transcript_biotype', 'rank_total',\n",
    "        'hgvs_c', 'hgvs_p', 'cdna_pos', 'cds_pos', 'protein_pos',\n",
    "        'distance', 'errors'\n",
    "    ]\n",
    "    \n",
    "    # Split annotations and create list of lists\n",
    "    parsed_data = [ann.split('|') for ann in annotations]\n",
    "    \n",
    "    # Create DataFrame\n",
    "    df = pd.DataFrame(parsed_data, columns=columns)\n",
    "    \n",
    "    return df"
   ]
  },
  {
   "cell_type": "code",
   "execution_count": 20,
   "id": "3610eccd-a020-4201-8d99-49406693e409",
   "metadata": {},
   "outputs": [
    {
     "data": {
      "text/plain": [
       "dict_keys(['samples', 'calldata/AD', 'calldata/DP', 'calldata/GQ', 'calldata/GT', 'calldata/MIN_DP', 'calldata/PGT', 'calldata/PID', 'calldata/PL', 'calldata/PS', 'calldata/RGQ', 'calldata/SB', 'variants/AC', 'variants/AF', 'variants/ALT', 'variants/AN', 'variants/AS_BaseQRankSum', 'variants/AS_FS', 'variants/AS_InbreedingCoeff', 'variants/AS_MQ', 'variants/AS_MQRankSum', 'variants/AS_QD', 'variants/AS_QUALapprox', 'variants/AS_ReadPosRankSum', 'variants/AS_SOR', 'variants/AS_VarDP', 'variants/BaseQRankSum', 'variants/CHROM', 'variants/DP', 'variants/END', 'variants/ExcessHet', 'variants/FILTER_LowQual', 'variants/FILTER_PASS', 'variants/FS', 'variants/HAPCOMP', 'variants/HAPDOM', 'variants/HEC', 'variants/ID', 'variants/InbreedingCoeff', 'variants/MLEAC', 'variants/MLEAF', 'variants/MQ', 'variants/MQRankSum', 'variants/MQ_DP', 'variants/NDA', 'variants/POS', 'variants/QD', 'variants/QUAL', 'variants/QUALapprox', 'variants/RAW_GT_COUNT', 'variants/RAW_MQandDP', 'variants/REF', 'variants/ReadPosRankSum', 'variants/SOR', 'variants/VarDP', 'variants/altlen', 'variants/is_snp', 'variants/numalt'])"
      ]
     },
     "execution_count": 20,
     "metadata": {},
     "output_type": "execute_result"
    }
   ],
   "source": [
    "vcf = allel.read_vcf(\"Adarlingi_example_selection_region.vcf\", fields=\"*\")\n",
    "vcf.keys()"
   ]
  },
  {
   "cell_type": "code",
   "execution_count": 21,
   "id": "92c4ef28-5f13-45f1-80dd-e97f97ec237e",
   "metadata": {},
   "outputs": [
    {
     "ename": "KeyError",
     "evalue": "'variants/ANN'",
     "output_type": "error",
     "traceback": [
      "\u001b[0;31m---------------------------------------------------------------------------\u001b[0m",
      "\u001b[0;31mKeyError\u001b[0m                                  Traceback (most recent call last)",
      "Cell \u001b[0;32mIn[21], line 1\u001b[0m\n\u001b[0;32m----> 1\u001b[0m df_ann \u001b[38;5;241m=\u001b[39m parse_snpeff_annotations(vcf[\u001b[38;5;124m'\u001b[39m\u001b[38;5;124mvariants/ANN\u001b[39m\u001b[38;5;124m'\u001b[39m])\n\u001b[1;32m      2\u001b[0m df_ann\n",
      "\u001b[0;31mKeyError\u001b[0m: 'variants/ANN'"
     ]
    }
   ],
   "source": [
    "df_ann = parse_snpeff_annotations(vcf['variants/ANN'])\n",
    "df_ann"
   ]
  },
  {
   "cell_type": "code",
   "execution_count": null,
   "id": "aaf40522-7e40-4fdb-bb5d-0da8d344aa8b",
   "metadata": {},
   "outputs": [],
   "source": []
  },
  {
   "cell_type": "code",
   "execution_count": null,
   "id": "5fb26f8d-908a-4532-8ea1-a559d70d48d6",
   "metadata": {},
   "outputs": [],
   "source": []
  },
  {
   "cell_type": "code",
   "execution_count": null,
   "id": "ea1c5b0f-2e4a-4f52-8f92-8d4c447e8194",
   "metadata": {},
   "outputs": [],
   "source": []
  },
  {
   "cell_type": "code",
   "execution_count": 3,
   "id": "c0215651-7320-4f4e-8b3f-be4414b9e7b8",
   "metadata": {},
   "outputs": [],
   "source": [
    "geno = allel.GenotypeArray(vcf['calldata/GT'])\n",
    "pos = vcf['variants/POS']\n",
    "samples = vcf['samples']"
   ]
  },
  {
   "cell_type": "code",
   "execution_count": 4,
   "id": "e5ed9739-d35e-430a-8305-c4a54fd3afca",
   "metadata": {},
   "outputs": [],
   "source": [
    "df_samples = pd.DataFrame({'sampleID':samples})['sampleID'].str.split(\"_\", expand=True).iloc[:, :2]\n",
    "df_samples.columns = ['loc1', 'loc2']"
   ]
  },
  {
   "cell_type": "code",
   "execution_count": null,
   "id": "19c4ee2a-a205-426f-9c2a-205aaa4ffac5",
   "metadata": {},
   "outputs": [],
   "source": []
  }
 ],
 "metadata": {
  "kernelspec": {
   "display_name": "Python 3 (ipykernel)",
   "language": "python",
   "name": "python3"
  },
  "language_info": {
   "codemirror_mode": {
    "name": "ipython",
    "version": 3
   },
   "file_extension": ".py",
   "mimetype": "text/x-python",
   "name": "python",
   "nbconvert_exporter": "python",
   "pygments_lexer": "ipython3",
   "version": "3.11.0"
  }
 },
 "nbformat": 4,
 "nbformat_minor": 5
}
