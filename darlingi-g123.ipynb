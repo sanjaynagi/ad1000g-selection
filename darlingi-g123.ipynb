{
 "cells": [
  {
   "cell_type": "code",
   "execution_count": null,
   "id": "503f525f-1449-49fd-bfb4-9004d1545a77",
   "metadata": {},
   "outputs": [],
   "source": [
    "import allel\n",
    "import numpy as np\n",
    "import pandas as pd\n",
    "import plotly.express as px\n",
    "\n",
    "def diplotype_frequencies(gt):\n",
    "    \"\"\"Compute diplotype frequencies, returning a dictionary that maps\n",
    "    diplotype hash values to frequencies.\"\"\"\n",
    "    from collections import Counter\n",
    "\n",
    "    # Here are some optimisations to speed up the computation\n",
    "    # of diplotype hashes. First we combine the two int8 alleles\n",
    "    # in each genotype call into a single int16.\n",
    "    m = gt.shape[0]\n",
    "    n = gt.shape[1]\n",
    "    x = np.asarray(gt).view(np.int16).reshape((m, n))\n",
    "\n",
    "    # Now call hashing function.\n",
    "    k = [hash(x[:, i].tobytes()) for i in range(x.shape[1])]\n",
    "\n",
    "    # Now compute counts and frequencies of distinct haplotypes.\n",
    "    counts = Counter(k)\n",
    "    freqs = {key: count / n for key, count in counts.items()}\n",
    "\n",
    "    return freqs\n",
    "\n",
    "def garud_g(g):\n",
    "    \"\"\"Compute the G1, G12, G123 and G2/H1 statistics for detecting signatures\n",
    "    of soft sweeps, as defined in Garud et al. (2018).\n",
    "    Parameters\n",
    "    ----------\n",
    "    g : array_like, int, shape (n_variants, n_samples)\n",
    "        Diploid genotypes at biallelic variants, coded as the number of\n",
    "        alternate alleles per call (i.e., 0 = hom ref, 1 = het, 2 = hom alt).\n",
    "    Returns\n",
    "    -------\n",
    "    g1 : float\n",
    "        g1 statistic (sum of squares of haplotype frequencies).\n",
    "    g12 : float\n",
    "        g12 statistic (sum of squares of haplotype frequencies, combining\n",
    "        the two most common haplotypes into a single frequency).\n",
    "    g123 : float\n",
    "        g123 statistic (sum of squares of haplotype frequencies, combining\n",
    "        the three most common haplotypes into a single frequency).\n",
    "    g2_g1 : float\n",
    "        H2/H1 statistic, indicating the \"softness\" of a sweep.\n",
    "    \"\"\"\n",
    "\n",
    "    # compute diplotype frequencies\n",
    "    frq_counter = diplotype_frequencies(g)\n",
    "\n",
    "    # convert to array of sorted frequencies\n",
    "    f = np.sort(np.fromiter(frq_counter.values(), dtype=float))[::-1]\n",
    "\n",
    "    # compute H1\n",
    "    g1 = np.sum(f**2)\n",
    "\n",
    "    # compute H12\n",
    "    g12 = np.sum(f[:2])**2 + np.sum(f[2:]**2)\n",
    "\n",
    "    # compute H123\n",
    "    g123 = np.sum(f[:3])**2 + np.sum(f[3:]**2)\n",
    "\n",
    "    # compute H2/H1\n",
    "    g2 = g1 - f[0]**2\n",
    "    g2_g1 = g2 / g1\n",
    "\n",
    "    return g1, g12, g123, g2_g1\n",
    "\n",
    "def moving_garud_g(g, size, start=0, stop=None, step=None):\n",
    "    \"\"\"Compute the G1, G12, G123 and G2/G1 statistics for detecting signatures\n",
    "    of soft sweeps, as defined in Garud et al. (2015), in moving windows,\n",
    "    Parameters\n",
    "    ----------\n",
    "    g : array_like, int, shape (n_variants, n_samples)\n",
    "        Diploid genotypes at biallelic variants, coded as the number of\n",
    "        alternate alleles per call (i.e., 0 = hom ref, 1 = het, 2 = hom alt).\n",
    "    size : int\n",
    "        The window size (number of variants).\n",
    "    start : int, optional\n",
    "        The index at which to start.\n",
    "    stop : int, optional\n",
    "        The index at which to stop.\n",
    "    step : int, optional\n",
    "        The number of variants between start positions of windows. If not\n",
    "        given, defaults to the window size, i.e., non-overlapping windows.\n",
    "    Returns\n",
    "    -------\n",
    "    g1 : ndarray, float, shape (n_windows,)\n",
    "        G1 statistics (sum of squares of haplotype frequencies).\n",
    "    g212 : ndarray, float, shape (n_windows,)\n",
    "        G12 statistics (sum of squares of haplotype frequencies, combining\n",
    "        the two most common haplotypes into a single frequency).\n",
    "    g123 : ndarray, float, shape (n_windows,)\n",
    "        G123 statistics (sum of squares of haplotype frequencies, combining\n",
    "        the three most common haplotypes into a single frequency).\n",
    "    g2_g1 : ndarray, float, shape (n_windows,)\n",
    "        G2/G1 statistics, indicating the \"softness\" of a sweep.\n",
    "    \"\"\"\n",
    "\n",
    "    gg = allel.moving_statistic(values=g, statistic=garud_g, size=size, start=start,\n",
    "                          stop=stop, step=step)\n",
    "\n",
    "    g1 = gg[:, 0]\n",
    "    g12 = gg[:, 1]\n",
    "    g123 = gg[:, 2]\n",
    "    g2_g1 = gg[:, 3]\n",
    "\n",
    "    return g1, g12, g123, g2_g1\n",
    "\n",
    "def g123_gwss(geno, pos, df_samples, window_size, step_size, query=None):\n",
    "    if query:\n",
    "        sample_mask = df_samples.eval(query)\n",
    "        geno = geno.compress(sample_mask, axis=1)\n",
    "\n",
    "    g1, g12, g123, g2_g1 = moving_garud_g(geno, size=window_size, step=step_size)\n",
    "    midpos = allel.moving_statistic(pos, statistic=np.median, size=window_size, step=step_size)\n",
    "    return midpos, g123\n",
    "\n",
    "def plot_g123_gwss(geno, pos, df_samples,window_size, step_size, query=None, title=None, width=600, height=300):\n",
    "    midpos, g123 = g123_gwss(geno, pos, df_samples=df_samples, window_size=window_size, step_size=step_size, query=query)\n",
    "    fig = px.scatter(x=midpos, y=g123, template='simple_white', width=width, height=height)\n",
    "\n",
    "    # rename x and y \n",
    "    fig.update_xaxes(title_text=\"Genome position\")\n",
    "    fig.update_yaxes(title_text=\"G123\")\n",
    "\n",
    "    if title is not None:\n",
    "        fig.update_layout(title_text=title)\n",
    "    return fig"
   ]
  },
  {
   "cell_type": "markdown",
   "id": "0e0f31b5-7ebc-45e3-87d6-111223323b01",
   "metadata": {},
   "source": [
    "### Run G123 on Darlingi"
   ]
  },
  {
   "cell_type": "code",
   "execution_count": null,
   "id": "3610eccd-a020-4201-8d99-49406693e409",
   "metadata": {},
   "outputs": [],
   "source": [
    "vcf_path = \"Adarlingi_example_selection_region.vcf\"\n",
    "\n",
    "vcf = allel.read_vcf(vcf_path, fields=\"*\")\n",
    "geno = allel.GenotypeArray(vcf['calldata/GT'])\n",
    "pos = vcf['variants/POS']"
   ]
  },
  {
   "cell_type": "code",
   "execution_count": null,
   "id": "1439d9ca",
   "metadata": {},
   "outputs": [],
   "source": [
    "df_samples = None # \n",
    "# df_samples = pd.read_csv(\"metadata.csv\", sep=\",\") # metadata file in the same order as the VCF samples\n",
    "query= None # \"country == 'Guyana'\" #country would need to be column in df_samples "
   ]
  },
  {
   "cell_type": "code",
   "execution_count": 30,
   "id": "c90bd290-d465-4661-aef6-7ee36941ff38",
   "metadata": {},
   "outputs": [
    {
     "data": {
      "application/vnd.plotly.v1+json": {
       "config": {
        "plotlyServerURL": "https://plot.ly"
       },
       "data": [
        {
         "hovertemplate": "x=%{x}<br>y=%{y}<extra></extra>",
         "legendgroup": "",
         "marker": {
          "color": "#1F77B4",
          "symbol": "circle"
         },
         "mode": "markers",
         "name": "",
         "orientation": "v",
         "showlegend": false,
         "type": "scatter",
         "x": [
          8400403,
          8400937.5,
          8401343.5,
          8401729,
          8402204,
          8402705,
          8403183,
          8403454.5,
          8403763.5,
          8404318.5,
          8404743,
          8405282.5,
          8405784,
          8406267.5,
          8406639,
          8406995.5,
          8407547.5,
          8408045,
          8408648,
          8409675.5,
          8410671.5,
          8411909.5,
          8412684.5,
          8413545.5,
          8414147,
          8414752.5,
          8415406,
          8416303,
          8416964,
          8418100,
          8419055.5,
          8419875.5,
          8421137.5,
          8421863.5,
          8422845.5,
          8423899,
          8424623.5,
          8425649,
          8426548,
          8427244,
          8428485,
          8429426.5,
          8430298,
          8430910.5,
          8431828.5,
          8432323.5,
          8432867.5,
          8433546,
          8434068,
          8434618.5,
          8435235.5,
          8436022,
          8436715,
          8437462.5,
          8438105,
          8438766.5,
          8439337,
          8440153.5,
          8440666,
          8441430.5,
          8442129,
          8442661.5,
          8443333.5,
          8444512,
          8445814,
          8446429.5,
          8447092,
          8448289,
          8448941,
          8449949,
          8450755.5,
          8451418.5,
          8452336,
          8453147.5,
          8453788.5,
          8454536.5,
          8455422,
          8456118.5,
          8456886,
          8457847,
          8458938,
          8460137,
          8461667,
          8463336.5,
          8464529.5,
          8464763,
          8465016.5,
          8465321.5,
          8465575.5,
          8465842,
          8466028.5,
          8466737.5,
          8467861,
          8468984.5,
          8470016,
          8471462.5,
          8472621.5,
          8473687,
          8474727.5,
          8475624,
          8477306.5,
          8478609.5,
          8479810.5,
          8480568.5,
          8481431.5,
          8482720,
          8483659.5,
          8484476.5,
          8485756.5,
          8487263,
          8488010.5,
          8488581.5,
          8489155.5,
          8489679,
          8490180.5,
          8490677.5,
          8491271.5,
          8491632.5,
          8492168,
          8492770.5,
          8493385.5,
          8493885.5,
          8494285.5,
          8494827,
          8495372.5,
          8495878.5,
          8496595.5,
          8497292,
          8497823.5,
          8498367,
          8499151.5,
          8499777.5,
          8500494.5,
          8501190,
          8501953,
          8502687.5,
          8503402.5,
          8504540,
          8505780,
          8506764,
          8507078.5,
          8507274.5,
          8507922,
          8508513.5,
          8509033,
          8509891.5,
          8510793.5,
          8512007,
          8512983,
          8513962.5,
          8515003.5,
          8516007,
          8516724.5,
          8517459,
          8518470,
          8519356,
          8519803,
          8520214,
          8520915,
          8521650.5,
          8521946.5,
          8522368.5,
          8522818.5,
          8523292.5,
          8523634.5,
          8524156,
          8524649,
          8525111,
          8525598,
          8526111.5,
          8526418.5,
          8527046,
          8527439.5,
          8527749.5,
          8528080,
          8528734,
          8529411.5,
          8530103.5,
          8530836,
          8531470,
          8531824.5,
          8532228,
          8532790.5,
          8533445,
          8534176,
          8534822.5,
          8535243,
          8535703.5,
          8536250.5,
          8537032.5,
          8537727,
          8538504,
          8539423,
          8540092,
          8540745.5,
          8541510.5,
          8542273,
          8542749.5,
          8543245.5,
          8543756.5,
          8544287.5,
          8544842,
          8545322.5,
          8545967,
          8546707.5,
          8547602,
          8548180.5,
          8548931.5,
          8549896,
          8550707,
          8551608,
          8552318.5,
          8553244,
          8554014.5,
          8554650,
          8555311,
          8556460,
          8557117.5,
          8557482.5,
          8557884,
          8558495,
          8559772,
          8560579.5,
          8561193.5,
          8561957.5,
          8562701,
          8563306,
          8563937,
          8564782.5,
          8565464.5,
          8565858.5,
          8566479.5,
          8567270,
          8567969.5,
          8568974,
          8569771.5,
          8570403.5,
          8571420,
          8572133.5,
          8572643,
          8573209.5,
          8573639.5,
          8574136.5,
          8574624.5,
          8575099,
          8575578.5,
          8576060.5,
          8576543.5,
          8577009.5,
          8577439.5,
          8577860.5,
          8578312.5,
          8578765.5,
          8579147.5,
          8579583,
          8580102.5,
          8580615.5,
          8581226.5,
          8581732.5,
          8582197,
          8582802.5,
          8583313.5,
          8583908,
          8584412.5,
          8584968,
          8585577,
          8586132,
          8586583,
          8586991,
          8587418.5,
          8587793,
          8588237,
          8588662.5,
          8589134,
          8589670,
          8590229.5,
          8590526.5,
          8590805.5,
          8591254.5,
          8591729.5,
          8592133.5,
          8592694.5,
          8593100.5,
          8593496,
          8593953,
          8594478.5,
          8594981.5,
          8595348.5,
          8595840.5,
          8596332.5,
          8596882.5,
          8597326,
          8597837.5,
          8598284,
          8598679,
          8599077,
          8599496.5
         ],
         "xaxis": "x",
         "y": [
          0.02687446027946657,
          0.02762292794922342,
          0.02568221089401317,
          0.017225519766915245,
          0.01181568818042045,
          0.015109277107735464,
          0.02428462966995391,
          0.03397000002483853,
          0.025130795553240975,
          0.025077806691665268,
          0.023960072892802702,
          0.03002564164129687,
          0.004319420169382207,
          0.004047852253806712,
          0.012625424221374217,
          0.03468866145995904,
          0.03167160815399225,
          0.03247968829302178,
          0.025556362347770867,
          0.022179978324243815,
          0.026732052713981855,
          0.026715493694739446,
          0.027771959122405095,
          0.026283303292512588,
          0.024869163049210927,
          0.017508678995960432,
          0.017617968522960322,
          0.0285220826940862,
          0.028429352186328707,
          0.026750267635148504,
          0.027071512608451226,
          0.02952721516210037,
          0.022781070722743234,
          0.024084265537120765,
          0.02713774868542086,
          0.018462478504323147,
          0.009290437745953183,
          0.01421012236287269,
          0.02997762048549388,
          0.02647869971957301,
          0.026424054956073063,
          0.026516785463830544,
          0.01627834386624949,
          0.016117721379598125,
          0.0031039881569894386,
          0.002264445881399337,
          0.008606550251241721,
          0.014874139034493264,
          0.007326538063803558,
          0.00444195691177603,
          0.006722133861455655,
          0.004327699679003412,
          0.00537919740089634,
          0.012138589055647412,
          0.006190589343774347,
          0.004453548225245716,
          0.01423992859750903,
          0.01275127276761652,
          0.007664342056348687,
          0.01022105462737653,
          0.017192401728430434,
          0.005430530360547806,
          0.005192080483457127,
          0.017775279205763203,
          0.03201769165615859,
          0.012569123555950029,
          0.012502887478980394,
          0.0174590019382332,
          0.016165742535401116,
          0.028177655093844102,
          0.033767979990081146,
          0.014531367336175414,
          0.009310308569044072,
          0.013592470945130863,
          0.012406845167374425,
          0.013928619035751752,
          0.017551732445990686,
          0.012663509965631758,
          0.013036087898585944,
          0.015920669050613474,
          0.02024257307288204,
          0.012431683696238037,
          0.011390121385890559,
          0.0038077464747917917,
          0.0392937247112728,
          0.09232563973700966,
          0.11983513840442261,
          0.27055864335267144,
          0.20949891579821509,
          0.08863463434787683,
          0.006483683984364974,
          0.01343019255655526,
          0.02914470181760075,
          0.03234887204100676,
          0.031862036875279956,
          0.033261274001263455,
          0.009591811896165012,
          0.009151341984316955,
          0.033501379780278374,
          0.03189681081568901,
          0.034562812913716746,
          0.03344839091870267,
          0.03022931757797849,
          0.03434754566356543,
          0.0323588074525522,
          0.033585830778414656,
          0.02184879793939564,
          0.02134871555827491,
          0.025607695307422337,
          0.01701522022253666,
          0.006495275297834661,
          0.00639260937853173,
          0.012678413082949924,
          0.019043700079731683,
          0.027682540418496094,
          0.022802597447758362,
          0.01811639500215681,
          0.020340271286412248,
          0.0107227929104215,
          0.009080138201574597,
          0.016082947439189067,
          0.00870590436669617,
          0.009782240617452712,
          0.024357489354620503,
          0.03020282314719064,
          0.027599745322284052,
          0.017603065405642153,
          0.017136101063006243,
          0.025630877934361706,
          0.03309071610306665,
          0.03129240661334111,
          0.02445187576430223,
          0.02427138245455998,
          0.029280485775388505,
          0.03125597677100781,
          0.028132945741889608,
          0.032580698310400474,
          0.03634787518804837,
          0.03611770482057889,
          0.005445433477865974,
          0.0019150505753845215,
          0.0015954615040060412,
          0.004276366719351946,
          0.010209463313906843,
          0.023089068480652026,
          0.021901786800971344,
          0.03487246657354979,
          0.032845642618279006,
          0.03543050552201894,
          0.029371560381221747,
          0.027672605006950648,
          0.03223792661208262,
          0.020981105331093448,
          0.029820309802691007,
          0.036169037780230354,
          0.03594549102045785,
          0.02767094910502641,
          0.026082939159679453,
          0.026569774325406255,
          0.025322880176452907,
          0.021562326906501977,
          0.01577826148512876,
          0.03014652248176645,
          0.0750429913537081,
          0.02238531016284967,
          0.012625424221374217,
          0.011216251683845272,
          0.015079470873099125,
          0.02399153502936328,
          0.032342248433309795,
          0.011012575747163647,
          0.008609862055090201,
          0.021876948272107736,
          0.04168981479564928,
          0.035612654733685425,
          0.036937376273078096,
          0.03849723588571296,
          0.03733313683297166,
          0.03096453803234142,
          0.02538083674380134,
          0.03147621172693184,
          0.021083771250396382,
          0.016298214689340382,
          0.01942124571845859,
          0.03811637844313757,
          0.03855850425690987,
          0.011873644747768879,
          0.010567138129542863,
          0.025693802207482852,
          0.01043797777945208,
          0.009224201668983552,
          0.01763452754220273,
          0.02115994273891146,
          0.02174116431431999,
          0.013713351785600441,
          0.01292845427351029,
          0.023781235484984693,
          0.032201496769749316,
          0.035554698166337016,
          0.035950458726230566,
          0.03768584394283496,
          0.04299963321772377,
          0.03916125255733354,
          0.038089884012349716,
          0.03986666677706014,
          0.00637770626121356,
          0.007695804192909264,
          0.039788839386620804,
          0.04024090061193855,
          0.038863190210970185,
          0.034248191548110984,
          0.0224349872205769,
          0.022896983857440094,
          0.02966962272758509,
          0.028970832115555466,
          0.03085193670149305,
          0.025791500421013067,
          0.013774620156797358,
          0.02442372543159014,
          0.02927882987346426,
          0.04601834242561482,
          0.048422712019612506,
          0.05339538549810771,
          0.05709798220071022,
          0.05480455803563667,
          0.008608206153165961,
          0.0030195371588531555,
          0.00416376538850357,
          0.022459825749440512,
          0.014736699174781275,
          0.008078317537408893,
          0.004430365598306344,
          0.008313455610651093,
          0.027568283185723474,
          0.04851378662544575,
          0.034625737186837896,
          0.036775097884502506,
          0.0517726016123517,
          0.03929703651512128,
          0.038430999808743316,
          0.05067805044042851,
          0.04352124232385964,
          0.04146461213395253,
          0.03923907994777286,
          0.029667966825660856,
          0.02992959932969091,
          0.020560506242336282,
          0.020426378186472766,
          0.03870753543009154,
          0.04331591048525378,
          0.03839622586833427,
          0.040065375007969035,
          0.035182120233382824,
          0.03324968268779377,
          0.043862358120253256,
          0.032963211654900106,
          0.023408657552030504,
          0.017763687892293517,
          0.010986081316375795,
          0.012406845167374428,
          0.03179745670023456,
          0.04089001416624097,
          0.031184772988265448,
          0.028747285355782953,
          0.02289036024974313,
          0.020451216715336385,
          0.027601401224208292,
          0.021658369218107945,
          0.017902783653929746,
          0.024309468198817522,
          0.02843597579402567,
          0.02045121671533638,
          0.028914531450131273,
          0.019715996260973458,
          0.00910663263236245,
          0.013849135743388192,
          0.033547745034157125,
          0.03895923252257616,
          0.02823229985734405,
          0.027950796530223112,
          0.03831508667404648,
          0.0359686736473972,
          0.04487080239211592,
          0.04838297037343072,
          0.04241013213269405,
          0.03711124597512339,
          0.03645054110735129,
          0.03340368156674816,
          0.02611108949239154,
          0.026377689702194323,
          0.028623092711464886,
          0.03288704016638503,
          0.02624687345017929,
          0.02228926785124371,
          0.023652075134893917,
          0.022146860285758997,
          0.014340938614887718
         ],
         "yaxis": "y"
        }
       ],
       "layout": {
        "height": 300,
        "legend": {
         "tracegroupgap": 0
        },
        "margin": {
         "t": 60
        },
        "template": {
         "data": {
          "bar": [
           {
            "error_x": {
             "color": "rgb(36,36,36)"
            },
            "error_y": {
             "color": "rgb(36,36,36)"
            },
            "marker": {
             "line": {
              "color": "white",
              "width": 0.5
             },
             "pattern": {
              "fillmode": "overlay",
              "size": 10,
              "solidity": 0.2
             }
            },
            "type": "bar"
           }
          ],
          "barpolar": [
           {
            "marker": {
             "line": {
              "color": "white",
              "width": 0.5
             },
             "pattern": {
              "fillmode": "overlay",
              "size": 10,
              "solidity": 0.2
             }
            },
            "type": "barpolar"
           }
          ],
          "carpet": [
           {
            "aaxis": {
             "endlinecolor": "rgb(36,36,36)",
             "gridcolor": "white",
             "linecolor": "white",
             "minorgridcolor": "white",
             "startlinecolor": "rgb(36,36,36)"
            },
            "baxis": {
             "endlinecolor": "rgb(36,36,36)",
             "gridcolor": "white",
             "linecolor": "white",
             "minorgridcolor": "white",
             "startlinecolor": "rgb(36,36,36)"
            },
            "type": "carpet"
           }
          ],
          "choropleth": [
           {
            "colorbar": {
             "outlinewidth": 1,
             "tickcolor": "rgb(36,36,36)",
             "ticks": "outside"
            },
            "type": "choropleth"
           }
          ],
          "contour": [
           {
            "colorbar": {
             "outlinewidth": 1,
             "tickcolor": "rgb(36,36,36)",
             "ticks": "outside"
            },
            "colorscale": [
             [
              0,
              "#440154"
             ],
             [
              0.1111111111111111,
              "#482878"
             ],
             [
              0.2222222222222222,
              "#3e4989"
             ],
             [
              0.3333333333333333,
              "#31688e"
             ],
             [
              0.4444444444444444,
              "#26828e"
             ],
             [
              0.5555555555555556,
              "#1f9e89"
             ],
             [
              0.6666666666666666,
              "#35b779"
             ],
             [
              0.7777777777777778,
              "#6ece58"
             ],
             [
              0.8888888888888888,
              "#b5de2b"
             ],
             [
              1,
              "#fde725"
             ]
            ],
            "type": "contour"
           }
          ],
          "contourcarpet": [
           {
            "colorbar": {
             "outlinewidth": 1,
             "tickcolor": "rgb(36,36,36)",
             "ticks": "outside"
            },
            "type": "contourcarpet"
           }
          ],
          "heatmap": [
           {
            "colorbar": {
             "outlinewidth": 1,
             "tickcolor": "rgb(36,36,36)",
             "ticks": "outside"
            },
            "colorscale": [
             [
              0,
              "#440154"
             ],
             [
              0.1111111111111111,
              "#482878"
             ],
             [
              0.2222222222222222,
              "#3e4989"
             ],
             [
              0.3333333333333333,
              "#31688e"
             ],
             [
              0.4444444444444444,
              "#26828e"
             ],
             [
              0.5555555555555556,
              "#1f9e89"
             ],
             [
              0.6666666666666666,
              "#35b779"
             ],
             [
              0.7777777777777778,
              "#6ece58"
             ],
             [
              0.8888888888888888,
              "#b5de2b"
             ],
             [
              1,
              "#fde725"
             ]
            ],
            "type": "heatmap"
           }
          ],
          "heatmapgl": [
           {
            "colorbar": {
             "outlinewidth": 1,
             "tickcolor": "rgb(36,36,36)",
             "ticks": "outside"
            },
            "colorscale": [
             [
              0,
              "#440154"
             ],
             [
              0.1111111111111111,
              "#482878"
             ],
             [
              0.2222222222222222,
              "#3e4989"
             ],
             [
              0.3333333333333333,
              "#31688e"
             ],
             [
              0.4444444444444444,
              "#26828e"
             ],
             [
              0.5555555555555556,
              "#1f9e89"
             ],
             [
              0.6666666666666666,
              "#35b779"
             ],
             [
              0.7777777777777778,
              "#6ece58"
             ],
             [
              0.8888888888888888,
              "#b5de2b"
             ],
             [
              1,
              "#fde725"
             ]
            ],
            "type": "heatmapgl"
           }
          ],
          "histogram": [
           {
            "marker": {
             "line": {
              "color": "white",
              "width": 0.6
             }
            },
            "type": "histogram"
           }
          ],
          "histogram2d": [
           {
            "colorbar": {
             "outlinewidth": 1,
             "tickcolor": "rgb(36,36,36)",
             "ticks": "outside"
            },
            "colorscale": [
             [
              0,
              "#440154"
             ],
             [
              0.1111111111111111,
              "#482878"
             ],
             [
              0.2222222222222222,
              "#3e4989"
             ],
             [
              0.3333333333333333,
              "#31688e"
             ],
             [
              0.4444444444444444,
              "#26828e"
             ],
             [
              0.5555555555555556,
              "#1f9e89"
             ],
             [
              0.6666666666666666,
              "#35b779"
             ],
             [
              0.7777777777777778,
              "#6ece58"
             ],
             [
              0.8888888888888888,
              "#b5de2b"
             ],
             [
              1,
              "#fde725"
             ]
            ],
            "type": "histogram2d"
           }
          ],
          "histogram2dcontour": [
           {
            "colorbar": {
             "outlinewidth": 1,
             "tickcolor": "rgb(36,36,36)",
             "ticks": "outside"
            },
            "colorscale": [
             [
              0,
              "#440154"
             ],
             [
              0.1111111111111111,
              "#482878"
             ],
             [
              0.2222222222222222,
              "#3e4989"
             ],
             [
              0.3333333333333333,
              "#31688e"
             ],
             [
              0.4444444444444444,
              "#26828e"
             ],
             [
              0.5555555555555556,
              "#1f9e89"
             ],
             [
              0.6666666666666666,
              "#35b779"
             ],
             [
              0.7777777777777778,
              "#6ece58"
             ],
             [
              0.8888888888888888,
              "#b5de2b"
             ],
             [
              1,
              "#fde725"
             ]
            ],
            "type": "histogram2dcontour"
           }
          ],
          "mesh3d": [
           {
            "colorbar": {
             "outlinewidth": 1,
             "tickcolor": "rgb(36,36,36)",
             "ticks": "outside"
            },
            "type": "mesh3d"
           }
          ],
          "parcoords": [
           {
            "line": {
             "colorbar": {
              "outlinewidth": 1,
              "tickcolor": "rgb(36,36,36)",
              "ticks": "outside"
             }
            },
            "type": "parcoords"
           }
          ],
          "pie": [
           {
            "automargin": true,
            "type": "pie"
           }
          ],
          "scatter": [
           {
            "fillpattern": {
             "fillmode": "overlay",
             "size": 10,
             "solidity": 0.2
            },
            "type": "scatter"
           }
          ],
          "scatter3d": [
           {
            "line": {
             "colorbar": {
              "outlinewidth": 1,
              "tickcolor": "rgb(36,36,36)",
              "ticks": "outside"
             }
            },
            "marker": {
             "colorbar": {
              "outlinewidth": 1,
              "tickcolor": "rgb(36,36,36)",
              "ticks": "outside"
             }
            },
            "type": "scatter3d"
           }
          ],
          "scattercarpet": [
           {
            "marker": {
             "colorbar": {
              "outlinewidth": 1,
              "tickcolor": "rgb(36,36,36)",
              "ticks": "outside"
             }
            },
            "type": "scattercarpet"
           }
          ],
          "scattergeo": [
           {
            "marker": {
             "colorbar": {
              "outlinewidth": 1,
              "tickcolor": "rgb(36,36,36)",
              "ticks": "outside"
             }
            },
            "type": "scattergeo"
           }
          ],
          "scattergl": [
           {
            "marker": {
             "colorbar": {
              "outlinewidth": 1,
              "tickcolor": "rgb(36,36,36)",
              "ticks": "outside"
             }
            },
            "type": "scattergl"
           }
          ],
          "scattermapbox": [
           {
            "marker": {
             "colorbar": {
              "outlinewidth": 1,
              "tickcolor": "rgb(36,36,36)",
              "ticks": "outside"
             }
            },
            "type": "scattermapbox"
           }
          ],
          "scatterpolar": [
           {
            "marker": {
             "colorbar": {
              "outlinewidth": 1,
              "tickcolor": "rgb(36,36,36)",
              "ticks": "outside"
             }
            },
            "type": "scatterpolar"
           }
          ],
          "scatterpolargl": [
           {
            "marker": {
             "colorbar": {
              "outlinewidth": 1,
              "tickcolor": "rgb(36,36,36)",
              "ticks": "outside"
             }
            },
            "type": "scatterpolargl"
           }
          ],
          "scatterternary": [
           {
            "marker": {
             "colorbar": {
              "outlinewidth": 1,
              "tickcolor": "rgb(36,36,36)",
              "ticks": "outside"
             }
            },
            "type": "scatterternary"
           }
          ],
          "surface": [
           {
            "colorbar": {
             "outlinewidth": 1,
             "tickcolor": "rgb(36,36,36)",
             "ticks": "outside"
            },
            "colorscale": [
             [
              0,
              "#440154"
             ],
             [
              0.1111111111111111,
              "#482878"
             ],
             [
              0.2222222222222222,
              "#3e4989"
             ],
             [
              0.3333333333333333,
              "#31688e"
             ],
             [
              0.4444444444444444,
              "#26828e"
             ],
             [
              0.5555555555555556,
              "#1f9e89"
             ],
             [
              0.6666666666666666,
              "#35b779"
             ],
             [
              0.7777777777777778,
              "#6ece58"
             ],
             [
              0.8888888888888888,
              "#b5de2b"
             ],
             [
              1,
              "#fde725"
             ]
            ],
            "type": "surface"
           }
          ],
          "table": [
           {
            "cells": {
             "fill": {
              "color": "rgb(237,237,237)"
             },
             "line": {
              "color": "white"
             }
            },
            "header": {
             "fill": {
              "color": "rgb(217,217,217)"
             },
             "line": {
              "color": "white"
             }
            },
            "type": "table"
           }
          ]
         },
         "layout": {
          "annotationdefaults": {
           "arrowhead": 0,
           "arrowwidth": 1
          },
          "autotypenumbers": "strict",
          "coloraxis": {
           "colorbar": {
            "outlinewidth": 1,
            "tickcolor": "rgb(36,36,36)",
            "ticks": "outside"
           }
          },
          "colorscale": {
           "diverging": [
            [
             0,
             "rgb(103,0,31)"
            ],
            [
             0.1,
             "rgb(178,24,43)"
            ],
            [
             0.2,
             "rgb(214,96,77)"
            ],
            [
             0.3,
             "rgb(244,165,130)"
            ],
            [
             0.4,
             "rgb(253,219,199)"
            ],
            [
             0.5,
             "rgb(247,247,247)"
            ],
            [
             0.6,
             "rgb(209,229,240)"
            ],
            [
             0.7,
             "rgb(146,197,222)"
            ],
            [
             0.8,
             "rgb(67,147,195)"
            ],
            [
             0.9,
             "rgb(33,102,172)"
            ],
            [
             1,
             "rgb(5,48,97)"
            ]
           ],
           "sequential": [
            [
             0,
             "#440154"
            ],
            [
             0.1111111111111111,
             "#482878"
            ],
            [
             0.2222222222222222,
             "#3e4989"
            ],
            [
             0.3333333333333333,
             "#31688e"
            ],
            [
             0.4444444444444444,
             "#26828e"
            ],
            [
             0.5555555555555556,
             "#1f9e89"
            ],
            [
             0.6666666666666666,
             "#35b779"
            ],
            [
             0.7777777777777778,
             "#6ece58"
            ],
            [
             0.8888888888888888,
             "#b5de2b"
            ],
            [
             1,
             "#fde725"
            ]
           ],
           "sequentialminus": [
            [
             0,
             "#440154"
            ],
            [
             0.1111111111111111,
             "#482878"
            ],
            [
             0.2222222222222222,
             "#3e4989"
            ],
            [
             0.3333333333333333,
             "#31688e"
            ],
            [
             0.4444444444444444,
             "#26828e"
            ],
            [
             0.5555555555555556,
             "#1f9e89"
            ],
            [
             0.6666666666666666,
             "#35b779"
            ],
            [
             0.7777777777777778,
             "#6ece58"
            ],
            [
             0.8888888888888888,
             "#b5de2b"
            ],
            [
             1,
             "#fde725"
            ]
           ]
          },
          "colorway": [
           "#1F77B4",
           "#FF7F0E",
           "#2CA02C",
           "#D62728",
           "#9467BD",
           "#8C564B",
           "#E377C2",
           "#7F7F7F",
           "#BCBD22",
           "#17BECF"
          ],
          "font": {
           "color": "rgb(36,36,36)"
          },
          "geo": {
           "bgcolor": "white",
           "lakecolor": "white",
           "landcolor": "white",
           "showlakes": true,
           "showland": true,
           "subunitcolor": "white"
          },
          "hoverlabel": {
           "align": "left"
          },
          "hovermode": "closest",
          "mapbox": {
           "style": "light"
          },
          "paper_bgcolor": "white",
          "plot_bgcolor": "white",
          "polar": {
           "angularaxis": {
            "gridcolor": "rgb(232,232,232)",
            "linecolor": "rgb(36,36,36)",
            "showgrid": false,
            "showline": true,
            "ticks": "outside"
           },
           "bgcolor": "white",
           "radialaxis": {
            "gridcolor": "rgb(232,232,232)",
            "linecolor": "rgb(36,36,36)",
            "showgrid": false,
            "showline": true,
            "ticks": "outside"
           }
          },
          "scene": {
           "xaxis": {
            "backgroundcolor": "white",
            "gridcolor": "rgb(232,232,232)",
            "gridwidth": 2,
            "linecolor": "rgb(36,36,36)",
            "showbackground": true,
            "showgrid": false,
            "showline": true,
            "ticks": "outside",
            "zeroline": false,
            "zerolinecolor": "rgb(36,36,36)"
           },
           "yaxis": {
            "backgroundcolor": "white",
            "gridcolor": "rgb(232,232,232)",
            "gridwidth": 2,
            "linecolor": "rgb(36,36,36)",
            "showbackground": true,
            "showgrid": false,
            "showline": true,
            "ticks": "outside",
            "zeroline": false,
            "zerolinecolor": "rgb(36,36,36)"
           },
           "zaxis": {
            "backgroundcolor": "white",
            "gridcolor": "rgb(232,232,232)",
            "gridwidth": 2,
            "linecolor": "rgb(36,36,36)",
            "showbackground": true,
            "showgrid": false,
            "showline": true,
            "ticks": "outside",
            "zeroline": false,
            "zerolinecolor": "rgb(36,36,36)"
           }
          },
          "shapedefaults": {
           "fillcolor": "black",
           "line": {
            "width": 0
           },
           "opacity": 0.3
          },
          "ternary": {
           "aaxis": {
            "gridcolor": "rgb(232,232,232)",
            "linecolor": "rgb(36,36,36)",
            "showgrid": false,
            "showline": true,
            "ticks": "outside"
           },
           "baxis": {
            "gridcolor": "rgb(232,232,232)",
            "linecolor": "rgb(36,36,36)",
            "showgrid": false,
            "showline": true,
            "ticks": "outside"
           },
           "bgcolor": "white",
           "caxis": {
            "gridcolor": "rgb(232,232,232)",
            "linecolor": "rgb(36,36,36)",
            "showgrid": false,
            "showline": true,
            "ticks": "outside"
           }
          },
          "title": {
           "x": 0.05
          },
          "xaxis": {
           "automargin": true,
           "gridcolor": "rgb(232,232,232)",
           "linecolor": "rgb(36,36,36)",
           "showgrid": false,
           "showline": true,
           "ticks": "outside",
           "title": {
            "standoff": 15
           },
           "zeroline": false,
           "zerolinecolor": "rgb(36,36,36)"
          },
          "yaxis": {
           "automargin": true,
           "gridcolor": "rgb(232,232,232)",
           "linecolor": "rgb(36,36,36)",
           "showgrid": false,
           "showline": true,
           "ticks": "outside",
           "title": {
            "standoff": 15
           },
           "zeroline": false,
           "zerolinecolor": "rgb(36,36,36)"
          }
         }
        },
        "width": 800,
        "xaxis": {
         "anchor": "y",
         "domain": [
          0,
          1
         ],
         "title": {
          "text": "Genome position"
         }
        },
        "yaxis": {
         "anchor": "x",
         "domain": [
          0,
          1
         ],
         "title": {
          "text": "G123"
         }
        }
       }
      }
     },
     "metadata": {},
     "output_type": "display_data"
    }
   ],
   "source": [
    "fig = plot_g123_gwss(geno=geno, pos=pos, df_samples=df_samples, query=query, window_size=300, step_size=150, width=800, height=300)\n",
    "fig.show()"
   ]
  },
  {
   "cell_type": "code",
   "execution_count": null,
   "id": "4f722548",
   "metadata": {},
   "outputs": [],
   "source": []
  }
 ],
 "metadata": {
  "kernelspec": {
   "display_name": "base",
   "language": "python",
   "name": "python3"
  },
  "language_info": {
   "codemirror_mode": {
    "name": "ipython",
    "version": 3
   },
   "file_extension": ".py",
   "mimetype": "text/x-python",
   "name": "python",
   "nbconvert_exporter": "python",
   "pygments_lexer": "ipython3",
   "version": "3.11.0"
  }
 },
 "nbformat": 4,
 "nbformat_minor": 5
}
